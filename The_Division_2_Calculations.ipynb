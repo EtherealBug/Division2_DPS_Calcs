{
 "cells": [
  {
   "cell_type": "code",
   "execution_count": 1,
   "metadata": {},
   "outputs": [
    {
     "name": "stdout",
     "output_type": "stream",
     "text": [
      "DPS = 3,671,798,855.9\n"
     ]
    }
   ],
   "source": [
    "import numpy as np\n",
    "import matplotlib.pyplot as plot\n",
    "import pylab\n",
    "import matplotlib.ticker as mtick\n",
    "\n",
    "def truncate(n, decimals=0):\n",
    "    multiplier = 10 ** decimals\n",
    "    return int(n * multiplier) / multiplier\n",
    "\n",
    "# Stats\n",
    "base_dmg=19957\n",
    "RPM=990\n",
    "Headshot_per=100\n",
    "HSR=Headshot_per/100\n",
    "CHC=38\n",
    "crit_prob=CHC/100\n",
    "CHD=41\n",
    "HSD=55\n",
    "reload=2.4\n",
    "AWD=22.5\n",
    "WTD=49\n",
    "DTE=92\n",
    "EAD=0\n",
    "HD=29\n",
    "OOC=0\n",
    "\n",
    "# Talents\n",
    "p_concussion=\"y\"\n",
    "spark=\"y\"\n",
    "composure=\"y\"\n",
    "berserk=100 # percentage of max armor depleted\n",
    "\n",
    "merciless_passive=(1+5/100*base_dmg)\n",
    "\n",
    "berserk=berserk/20\n",
    "berserk=truncate(berserk)*(8)\n",
    "AWD=AWD+berserk\n",
    "\n",
    "if p_concussion==\"y\":\n",
    "    HSD=HSD+20\n",
    "if spark==\"y\":\n",
    "    AWD=AWD+15\n",
    "if composure==\"y\":\n",
    "    AWD=AWD+10\n",
    "\n",
    "talents=merciless_passive\n",
    "\n",
    "dmg_shot=base_dmg*(1+(AWD+WTD)/100)*(1+((HSD*HSR)+CHD*crit_prob)/100)*(1+(DTE)/100)*(1+(OOC)/100)*(1+(EAD)/100)*(1+(HD)/100)*talents\n",
    "\n",
    "DPS=dmg_shot*RPM/60\n",
    "\n",
    "print(\"DPS = \",end=\"\")\n",
    "print (\"{0:,.1f}\".format(DPS))"
   ]
  },
  {
   "cell_type": "code",
   "execution_count": null,
   "metadata": {},
   "outputs": [],
   "source": []
  }
 ],
 "metadata": {
  "kernelspec": {
   "display_name": "Python 3",
   "language": "python",
   "name": "python3"
  },
  "language_info": {
   "codemirror_mode": {
    "name": "ipython",
    "version": 3
   },
   "file_extension": ".py",
   "mimetype": "text/x-python",
   "name": "python",
   "nbconvert_exporter": "python",
   "pygments_lexer": "ipython3",
   "version": "3.6.5"
  }
 },
 "nbformat": 4,
 "nbformat_minor": 2
}
